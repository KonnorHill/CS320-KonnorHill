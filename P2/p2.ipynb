{
 "cells": [
  {
   "cell_type": "code",
   "execution_count": 1,
   "id": "c8fe41ad-d9bb-44c1-b6db-afbd5c361895",
   "metadata": {},
   "outputs": [],
   "source": [
    "# project: p2\n",
    "# submitter: kkhill4\n",
    "# partner: none\n",
    "# hours: 15"
   ]
  },
  {
   "cell_type": "code",
   "execution_count": 2,
   "id": "f1992c6a-8245-4da6-9a03-650a4f3352d6",
   "metadata": {},
   "outputs": [],
   "source": [
    "#import statements\n",
    "import loans\n",
    "%load_ext autoreload\n",
    "%autoreload 2\n",
    "\n",
    "import pandas as pd\n",
    "import json\n",
    "import time\n",
    "from io import TextIOWrapper\n",
    "import matplotlib.pyplot as plt"
   ]
  },
  {
   "cell_type": "code",
   "execution_count": 3,
   "id": "e384f6c3-64c8-4647-8168-29d474c44dbc",
   "metadata": {},
   "outputs": [],
   "source": [
    "values = {'activity_year': '2021', 'lei': '549300Q76VHK6FGPX546', 'derived_msa-md': '24580', 'state_code': 'WI','county_code': '55009', 'census_tract': '55009020702', 'conforming_loan_limit': 'C', 'derived_loan_product_type': 'Conventional:First Lien', 'derived_dwelling_category': 'Single Family (1-4 Units):Site-Built', 'derived_ethnicity': 'Not Hispanic or Latino', 'derived_race': 'White', 'derived_sex': 'Joint', 'action_taken': '1', 'purchaser_type': '1', 'preapproval': '2', 'loan_type': '1', 'loan_purpose': '31', 'lien_status': '1', 'reverse_mortgage': '2', 'open-end_line_of_credit': '2', 'business_or_commercial_purpose': '2', 'loan_amount': '325000.0', 'loan_to_value_ratio': '73.409', 'interest_rate': '2.5', 'rate_spread': '0.304', 'hoepa_status': '2', 'total_loan_costs': '3932.75', 'total_points_and_fees': 'NA', 'origination_charges': '3117.5', 'discount_points': '', 'lender_credits': '', 'loan_term': '240', 'prepayment_penalty_term': 'NA', 'intro_rate_period': 'NA', 'negative_amortization': '2', 'interest_only_payment': '2', 'balloon_payment': '2', 'other_nonamortizing_features': '2', 'property_value': '445000', 'construction_method': '1', 'occupancy_type': '1', 'manufactured_home_secured_property_type': '3', 'manufactured_home_land_property_interest': '5', 'total_units': '1', 'multifamily_affordable_units': 'NA', 'income': '264', 'debt_to_income_ratio': '20%-<30%', 'applicant_credit_score_type': '2', 'co-applicant_credit_score_type': '9', 'applicant_ethnicity-1': '2', 'applicant_ethnicity-2': '', 'applicant_ethnicity-3': '', 'applicant_ethnicity-4': '', 'applicant_ethnicity-5': '', 'co-applicant_ethnicity-1': '2', 'co-applicant_ethnicity-2': '', 'co-applicant_ethnicity-3': '', 'co-applicant_ethnicity-4': '', 'co-applicant_ethnicity-5': '', 'applicant_ethnicity_observed': '2', 'co-applicant_ethnicity_observed': '2', 'applicant_race-1': '5', 'applicant_race-2': '', 'applicant_race-3': '', 'applicant_race-4': '', 'applicant_race-5': '', 'co-applicant_race-1': '5', 'co-applicant_race-2': '', 'co-applicant_race-3': '', 'co-applicant_race-4': '', 'co-applicant_race-5': '', 'applicant_race_observed': '2', 'co-applicant_race_observed': '2', 'applicant_sex': '1', 'co-applicant_sex': '2', 'applicant_sex_observed': '2', 'co-applicant_sex_observed': '2', 'applicant_age': '35-44', 'co-applicant_age': '35-44', 'applicant_age_above_62': 'No', 'co-applicant_age_above_62': 'No', 'submission_of_application': '1', 'initially_payable_to_institution': '1', 'aus-1': '1', 'aus-2': '', 'aus-3': '', 'aus-4': '', 'aus-5': '', 'denial_reason-1': '10', 'denial_reason-2': '', 'denial_reason-3': '', 'denial_reason-4': '', 'tract_population': '6839', 'tract_minority_population_percent': '8.85999999999999943', 'ffiec_msa_md_median_family_income': '80100', 'tract_to_msa_income_percentage': '150', 'tract_owner_occupied_units': '1701', 'tract_one_to_four_family_homes': '2056', 'tract_median_age_of_housing_units': '15'}"
   ]
  },
  {
   "cell_type": "code",
   "execution_count": 4,
   "id": "6ee95120-ceb9-4a36-9b08-514a14c75594",
   "metadata": {},
   "outputs": [
    {
     "name": "stdout",
     "output_type": "stream",
     "text": [
      "{'Black or African American', 'American Indian or Alaska Native', 'Asian'}\n"
     ]
    }
   ],
   "source": [
    "applicant = loans.Applicant(\"20-30\", [\"1\", \"2\", \"3\"])\n",
    "print(applicant.race)"
   ]
  },
  {
   "cell_type": "code",
   "execution_count": 5,
   "id": "1fd86183-3983-4ab4-8f11-428ca1616cf1",
   "metadata": {},
   "outputs": [
    {
     "data": {
      "text/plain": [
       "\"Applicant('20-30', ['American Indian or Alaska Native', 'Asian', 'Black or African American'])\""
      ]
     },
     "execution_count": 5,
     "metadata": {},
     "output_type": "execute_result"
    }
   ],
   "source": [
    "repr(applicant)"
   ]
  },
  {
   "cell_type": "code",
   "execution_count": 6,
   "id": "43fa6ccb-a47b-4cfe-8301-d305338dc058",
   "metadata": {},
   "outputs": [
    {
     "name": "stdout",
     "output_type": "stream",
     "text": [
      "20\n"
     ]
    }
   ],
   "source": [
    "print(applicant.lower_age())"
   ]
  },
  {
   "cell_type": "code",
   "execution_count": 7,
   "id": "1cb8f91d-5a1b-49c2-91be-633ef40b7b6b",
   "metadata": {},
   "outputs": [
    {
     "name": "stdout",
     "output_type": "stream",
     "text": [
      "Applicant('20-30', ['American Indian or Alaska Native', 'Black or African American'])\n",
      "Applicant('<25', ['White'])\n",
      "Applicant('35-44', ['Chinese'])\n",
      "Applicant('>75', ['Other Pacific Islander', 'Samoan'])\n"
     ]
    }
   ],
   "source": [
    "applicants = [\n",
    "    loans.Applicant(\">75\", [\"43\", \"44\"]),\n",
    "    loans.Applicant(\"20-30\", [\"1\", \"3\"]),\n",
    "    loans.Applicant(\"35-44\", [\"22\"]),\n",
    "    loans.Applicant(\"<25\", [\"5\"]),\n",
    "]\n",
    "sorted_applicants = sorted(applicants)\n",
    "for applicant in sorted_applicants:\n",
    "    print(applicant)"
   ]
  },
  {
   "cell_type": "code",
   "execution_count": 8,
   "id": "12448d46-5e3e-46e9-8d2f-9b6320cfec8d",
   "metadata": {},
   "outputs": [
    {
     "name": "stdout",
     "output_type": "stream",
     "text": [
      "2.5\n"
     ]
    }
   ],
   "source": [
    "loan = loans.Loan(values)\n",
    "print(loan.interest_rate)"
   ]
  },
  {
   "cell_type": "code",
   "execution_count": 9,
   "id": "e63e7fc5-b964-4791-a460-cd7c6fbe205d",
   "metadata": {},
   "outputs": [
    {
     "name": "stdout",
     "output_type": "stream",
     "text": [
      "<Loan: 2.5% on $445000.0 with 2 applicant(s)>\n"
     ]
    }
   ],
   "source": [
    "print(loan)"
   ]
  },
  {
   "cell_type": "code",
   "execution_count": 10,
   "id": "00e5cac8-388e-42ad-9e12-12c8694520ad",
   "metadata": {},
   "outputs": [
    {
     "name": "stdout",
     "output_type": "stream",
     "text": [
      "325000.0\n",
      "303125.0\n",
      "280703.125\n",
      "257720.703125\n",
      "234163.720703125\n",
      "210017.81372070312\n",
      "185268.2590637207\n",
      "159899.96554031371\n",
      "133897.46467882156\n",
      "107244.90129579211\n",
      "79926.02382818691\n",
      "51924.174423891585\n",
      "23222.278784488873\n"
     ]
    }
   ],
   "source": [
    "for amt in loan.yearly_amounts(30000):\n",
    "    print(amt)"
   ]
  },
  {
   "cell_type": "code",
   "execution_count": 11,
   "id": "709586ae-86d9-4409-8e96-c9f62c8a5e4d",
   "metadata": {},
   "outputs": [
    {
     "data": {
      "text/plain": [
       "'254900CN1DD55MJDFH69'"
      ]
     },
     "execution_count": 11,
     "metadata": {},
     "output_type": "execute_result"
    }
   ],
   "source": [
    "uwcu = loans.Bank(\"University of Wisconsin Credit Union\")\n",
    "uwcu.lei"
   ]
  },
  {
   "cell_type": "code",
   "execution_count": 12,
   "id": "f9aa0856-b617-4c73-a07e-76b1e6878967",
   "metadata": {},
   "outputs": [
    {
     "data": {
      "text/plain": [
       "<Loan: -1% on $255000.0 with 1 applicant(s)>"
      ]
     },
     "execution_count": 12,
     "metadata": {},
     "output_type": "execute_result"
    }
   ],
   "source": [
    "uwcu[-1]"
   ]
  },
  {
   "cell_type": "code",
   "execution_count": 13,
   "id": "28757f42-efd3-460c-8498-9d2d0c82d29a",
   "metadata": {},
   "outputs": [
    {
     "data": {
      "text/plain": [
       "19739"
      ]
     },
     "execution_count": 13,
     "metadata": {},
     "output_type": "execute_result"
    }
   ],
   "source": [
    "len(uwcu)"
   ]
  },
  {
   "cell_type": "code",
   "execution_count": 14,
   "id": "d1470473-323e-4a5c-b07f-9484ddc4c5c9",
   "metadata": {},
   "outputs": [
    {
     "name": "stdout",
     "output_type": "stream",
     "text": [
      "The autoreload extension is already loaded. To reload it, use:\n",
      "  %reload_ext autoreload\n"
     ]
    }
   ],
   "source": [
    "import search\n",
    "%load_ext autoreload\n",
    "%autoreload 2"
   ]
  },
  {
   "cell_type": "code",
   "execution_count": 15,
   "id": "70f72c2b-39be-46de-9fe6-128557472909",
   "metadata": {},
   "outputs": [
    {
     "name": "stdout",
     "output_type": "stream",
     "text": [
      "A : [9, 5]\n",
      "B : [22]\n",
      "C : [33]\n"
     ]
    }
   ],
   "source": [
    "tree = search.BST()\n",
    "tree.add(\"A\", 9)\n",
    "tree.add(\"A\", 5)\n",
    "tree.add(\"B\", 22)\n",
    "tree.add(\"C\", 33)\n",
    "tree.dump()"
   ]
  },
  {
   "cell_type": "code",
   "execution_count": 16,
   "id": "c13401d8-c9db-4be9-9b5d-42027b3e8fb6",
   "metadata": {},
   "outputs": [
    {
     "data": {
      "text/plain": [
       "<search.BST at 0x7f3157c96770>"
      ]
     },
     "execution_count": 16,
     "metadata": {},
     "output_type": "execute_result"
    }
   ],
   "source": [
    "t = search.BST()\n",
    "t.add(\"B\", 3)\n",
    "assert len(t.root) == 1\n",
    "t.add(\"A\", 2)\n",
    "assert len(t.root) == 2\n",
    "t.add(\"C\", 1)\n",
    "assert len(t.root) == 3\n",
    "t.add(\"C\", 4)\n",
    "assert len(t.root) == 4\n",
    "t"
   ]
  },
  {
   "cell_type": "code",
   "execution_count": 17,
   "id": "19589ba1-ff9e-4e17-8818-4413293fac9c",
   "metadata": {},
   "outputs": [
    {
     "data": {
      "text/plain": [
       "[2]"
      ]
     },
     "execution_count": 17,
     "metadata": {},
     "output_type": "execute_result"
    }
   ],
   "source": [
    "t.root.lookup(\"A\")"
   ]
  },
  {
   "cell_type": "code",
   "execution_count": 18,
   "id": "7f6fd355-600d-40fb-8470-72972fa2dc14",
   "metadata": {},
   "outputs": [
    {
     "data": {
      "text/plain": [
       "[1, 4]"
      ]
     },
     "execution_count": 18,
     "metadata": {},
     "output_type": "execute_result"
    }
   ],
   "source": [
    "t.root.lookup(\"C\")"
   ]
  },
  {
   "cell_type": "code",
   "execution_count": 19,
   "id": "56ff5ca7-124b-4b24-8b4b-59674b87e2c2",
   "metadata": {},
   "outputs": [
    {
     "data": {
      "text/plain": [
       "[]"
      ]
     },
     "execution_count": 19,
     "metadata": {},
     "output_type": "execute_result"
    }
   ],
   "source": [
    "t.root.lookup(\"Z\")"
   ]
  },
  {
   "cell_type": "code",
   "execution_count": 20,
   "id": "981d17a7-3fb9-4349-8ac3-e959bcc7ab2c",
   "metadata": {},
   "outputs": [],
   "source": [
    "first_home_bank = loans.Bank(\"First Home Bank\")"
   ]
  },
  {
   "cell_type": "code",
   "execution_count": 21,
   "id": "053e1a01-d82a-437d-9d81-3a365f46372f",
   "metadata": {},
   "outputs": [
    {
     "data": {
      "text/plain": [
       "2.8333333333333335"
      ]
     },
     "execution_count": 21,
     "metadata": {},
     "output_type": "execute_result"
    }
   ],
   "source": [
    "#Q1 What is the average interest rate for the bank?\n",
    "i_rates = [float(str(loan).split(\" \")[1].split(\"%\")[0]) for loan in first_home_bank.loans if loan.interest_rate != -1]\n",
    "avg_i_rate = sum(i_rates) / len(i_rates) if i_rates else 0.0\n",
    "avg_i_rate"
   ]
  },
  {
   "cell_type": "code",
   "execution_count": 22,
   "id": "3b22c3d9-7bb5-4230-b68b-965abbd9d5d8",
   "metadata": {},
   "outputs": [
    {
     "data": {
      "text/plain": [
       "1.3043478260869565"
      ]
     },
     "execution_count": 22,
     "metadata": {},
     "output_type": "execute_result"
    }
   ],
   "source": [
    "#Q2: how many applicants are there per loan, on average?\n",
    "app_counts = [int(str(loan).split(\" \")[5]) for loan in first_home_bank.loans]\n",
    "avg_applicants_per_loan = sum(app_counts) / len(app_counts) if app_counts else 0.0\n",
    "avg_applicants_per_loan"
   ]
  },
  {
   "cell_type": "code",
   "execution_count": 23,
   "id": "20748527-727b-445d-bbf8-d3423fa2e838",
   "metadata": {},
   "outputs": [
    {
     "data": {
      "text/plain": [
       "{'55-64': 12, '45-54': 8, '65-74': 3, '25-34': 3, '35-44': 1, '>74': 3}"
      ]
     },
     "execution_count": 23,
     "metadata": {},
     "output_type": "execute_result"
    }
   ],
   "source": [
    "#Q3: what is the distribution of ages?\n",
    "distribution_ages = {}\n",
    "for loan in first_home_bank.loans:\n",
    "    for applicant in loan.applicants:\n",
    "        if applicant.age in distribution_ages:\n",
    "            distribution_ages[applicant.age] += 1\n",
    "        else:\n",
    "            distribution_ages[applicant.age] = 1                  \n",
    "distribution_ages    "
   ]
  },
  {
   "cell_type": "code",
   "execution_count": 24,
   "id": "c7fa9d38-94ee-4189-bb67-44a55239c13a",
   "metadata": {},
   "outputs": [
    {
     "data": {
      "text/plain": [
       "11"
      ]
     },
     "execution_count": 24,
     "metadata": {},
     "output_type": "execute_result"
    }
   ],
   "source": [
    "#Q4: how many interest rate values are missing?\n",
    "t = search.BST()\n",
    "for val in first_home_bank.loans:\n",
    "    t.add(val.interest_rate, val) \n",
    "len(t[-1])"
   ]
  },
  {
   "cell_type": "code",
   "execution_count": 25,
   "id": "3d355d38-f917-4515-bfab-37fe80f1542b",
   "metadata": {},
   "outputs": [
    {
     "data": {
      "text/plain": [
       "5"
      ]
     },
     "execution_count": 25,
     "metadata": {},
     "output_type": "execute_result"
    }
   ],
   "source": [
    "#Q5: how tall is the tree?\n",
    "def max_depth(node):\n",
    "    if node is None:\n",
    "        return -1\n",
    "    left_height = max_depth(node.left)\n",
    "    right_height = max_depth(node.right)\n",
    "    return 1 + max(left_height, right_height)\n",
    "tree_height = max_depth(t.root)\n",
    "tree_height"
   ]
  },
  {
   "cell_type": "code",
   "execution_count": 26,
   "id": "8087e0d6-8b54-45c0-a3f0-d05a721757be",
   "metadata": {},
   "outputs": [
    {
     "data": {
      "text/plain": [
       "Text(0, 0.5, 'Total Elapsed Milliseconds')"
      ]
     },
     "execution_count": 26,
     "metadata": {},
     "output_type": "execute_result"
    },
    {
     "data": {
      "image/png": "[encoded data removed]",
      "text/plain": [
       "<Figure size 640x480 with 1 Axes>"
      ]
     },
     "metadata": {},
     "output_type": "display_data"
    }
   ],
   "source": [
    "#Q6: how long does it take to add the loans to the tree?\n",
    "Q6_df = pd.DataFrame(dtype = float)\n",
    "\n",
    "t = search.BST()\n",
    "t_zero = time.time()\n",
    "count = 0\n",
    "for val in uwcu.loans:\n",
    "    t.add(val.interest_rate, val)\n",
    "    count += 1 \n",
    "    t_one = time.time()\n",
    "    run_time = (t_one-t_zero)*1000\n",
    "    Q6_df.at[count, \"Time\"] = run_time   \n",
    "\n",
    "graph_df = Q6_df.plot.line(legend = False)\n",
    "graph_df.set_xlabel(\"BST Adds\")\n",
    "graph_df.set_ylabel(\"Total Elapsed Milliseconds\") "
   ]
  },
  {
   "cell_type": "code",
   "execution_count": 27,
   "id": "75ced0af-228e-4789-a312-c573ad6c4e1a",
   "metadata": {},
   "outputs": [
    {
     "data": {
      "text/plain": [
       "Text(0, 0.5, 'Milliseconds')"
      ]
     },
     "execution_count": 27,
     "metadata": {},
     "output_type": "execute_result"
    },
    {
     "data": {
      "image/png": "[encoded data removed]",
      "text/plain": [
       "<Figure size 640x480 with 1 Axes>"
      ]
     },
     "metadata": {},
     "output_type": "display_data"
    }
   ],
   "source": [
    "#Q7: how fast are tree lookups?\n",
    "Q7_df = pd.DataFrame(dtype = float)\n",
    "\n",
    "t_zero = time.time()\n",
    "count = 0\n",
    "for val in uwcu.loans:\n",
    "    if val.interest_rate == -1:\n",
    "        count += 1       \n",
    "\n",
    "t_one = time.time()\n",
    "diff_1 = (t_one - t_zero)*1000\n",
    "Q7_df.at[\"Loop\", time] = diff_1\n",
    "t_zero = time.time()\n",
    "bst = len(t[-1])\n",
    "t_one = time.time()\n",
    "diff_2 = (t_one-t_zero)*1000\n",
    "Q7_df.at[\"BST\", time] = diff_2\n",
    "\n",
    "df = Q7_df.plot.bar(legend = False)\n",
    "df.set_ylabel(\"Milliseconds\")"
   ]
  },
  {
   "cell_type": "code",
   "execution_count": 28,
   "id": "5688d20c-b915-4144-8d92-6cdf9dd7a3ae",
   "metadata": {},
   "outputs": [
    {
     "data": {
      "image/png": "[encoded data removed]",
      "text/plain": [
       "<Figure size 640x480 with 1 Axes>"
      ]
     },
     "metadata": {},
     "output_type": "display_data"
    }
   ],
   "source": [
    "#Q8: How many applicants indicate multiple racial identities?\n",
    "count = {}\n",
    "for loan in uwcu.loans:\n",
    "    for app in loan.applicants:\n",
    "        race_selections = len(app.race) \n",
    "        if race_selections in count:\n",
    "            count[race_selections] += 1\n",
    "        else:\n",
    "            count[race_selections] = 1\n",
    "\n",
    "df = pd.DataFrame({\"Race Selections\": list(count.keys()),\n",
    "                             \"Applicants\": list(count.values())})\n",
    "df = df.sort_values(by = \"Race Selections\")\n",
    "\n",
    "plt.bar(df[\"Race Selections\"], df[\"Applicants\"])\n",
    "plt.xlabel(\"Race Selections\")\n",
    "plt.ylabel(\"Applicants\")\n",
    "plt.title(\"Applicants with Multiple Racial Indentities\")\n",
    "plt.show()"
   ]
  },
  {
   "cell_type": "code",
   "execution_count": 29,
   "id": "730047a5-6656-4297-b9e2-4617b19d74f4",
   "metadata": {},
   "outputs": [
    {
     "data": {
      "text/plain": [
       "13"
      ]
     },
     "execution_count": 29,
     "metadata": {},
     "output_type": "execute_result"
    }
   ],
   "source": [
    "#Q9: How many leaf nodes are in the tree?\n",
    "13"
   ]
  },
  {
   "cell_type": "code",
   "execution_count": null,
   "id": "d533f0b5-d17c-4748-91d7-e38e3908edde",
   "metadata": {},
   "outputs": [],
   "source": []
  }
 ],
 "metadata": {
  "kernelspec": {
   "display_name": "Python 3 (ipykernel)",
   "language": "python",
   "name": "python3"
  },
  "language_info": {
   "codemirror_mode": {
    "name": "ipython",
    "version": 3
   },
   "file_extension": ".py",
   "mimetype": "text/x-python",
   "name": "python",
   "nbconvert_exporter": "python",
   "pygments_lexer": "ipython3",
   "version": "3.10.12"
  }
 },
 "nbformat": 4,
 "nbformat_minor": 5
}
